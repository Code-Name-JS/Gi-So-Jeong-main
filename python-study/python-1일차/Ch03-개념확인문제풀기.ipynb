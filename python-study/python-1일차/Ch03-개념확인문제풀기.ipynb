{
 "cells": [
  {
   "cell_type": "markdown",
   "metadata": {},
   "source": [
    "<span style=\"font-size:100%\">\n",
    "\n",
    "수업은 모두 열심히 들으셨나요?\n",
    "\n",
    "간혹 강의에서 언급되지 않은 내용이 문제로 나올 수 있습니다.<br>\n",
    "그럴땐 강의 내용 외 문제는 구글링을 통해 해결해주세요<br></span>\n",
    "<span style=\"font-size:80%\">\n",
    "(구글링 또한 개발자가 갖쳐야할 역량 중에 하나랍니다 😊)\n",
    "</span>\n",
    "\n",
    "---"
   ]
  },
  {
   "cell_type": "markdown",
   "metadata": {},
   "source": [
    "<span style=\"font-size:80%\">[문제1]<br><br></span>\n",
    "```주로 작성 중인 코드의 끝을 알리는 기호로 사용되며 파이썬에서 한 줄에 작성된 서로 다른 코드를 구분 지을 때 사용할 수 있는 기호를 골라주세요```\n",
    "\n",
    "1. ' , ' (쉼표)\n",
    "2. ' + ' (더하기 기호)\n",
    "3. ' ; ' (세미콜론)\n",
    "4. ' / ' (슬래시)"
   ]
  },
  {
   "cell_type": "markdown",
   "metadata": {},
   "source": [
    "<span style=\"color:red\">답변</span> :"
   ]
  },
  {
   "cell_type": "markdown",
   "metadata": {},
   "source": [
    "3번 ; 세미콜론"
   ]
  },
  {
   "cell_type": "markdown",
   "metadata": {},
   "source": [
    "----"
   ]
  },
  {
   "cell_type": "markdown",
   "metadata": {},
   "source": [
    "<span style=\"font-size:80%\">[문제2]<br><br></span>\n",
    "```Python의 PEP 8은 무엇인지 설명하고 PEP 8의 핵심적인 규칙을 1개 이상을 설명해주세요```"
   ]
  },
  {
   "cell_type": "markdown",
   "metadata": {},
   "source": [
    "<span style=\"color:red\">답변</span>"
   ]
  },
  {
   "cell_type": "markdown",
   "metadata": {},
   "source": [
    "### PEP 8\n",
    "- 파이썬의 공식 스타일 가이드\n",
    "\n",
    "- Python Enhancement Proposal의 약자\n",
    "\n",
    "- 파이썬 코드의 일관성 있고 가독성 높은 스타일을 유지하기 위해 만들어졌음\n",
    "\n",
    "- 이 공식을 따르면 코드가 더 명확해지고, 협업하는 개발자들 간의 코드 품질을 유지할 수 있음\n",
    "\n",
    "### PEP 8의 핵심 규칙 중 몇 가지\n",
    "- 들여쓰기(Indentation)\n",
    "\n",
    "    - 들여쓰기는 4칸의 공백을 사용한다.\n",
    "\n",
    "- 라인 길이 제한\n",
    "\n",
    "    - 코드 한 줄의 최대 길이는 79자로 제한하는 것이 권장된다.\n",
    "\n",
    "\n",
    "- 공백 사용\n",
    "\n",
    "    - 연산자나 콤마 주변에 불필요한 공백을 피한다.\n"
   ]
  },
  {
   "cell_type": "markdown",
   "metadata": {},
   "source": [
    "----"
   ]
  },
  {
   "cell_type": "markdown",
   "metadata": {},
   "source": [
    "<span style=\"font-size:80%\">[문제3]<br><br></span>\n",
    "```Python에서 \"#\"이 의마하는 것은 무엇인지 설명해주세요```"
   ]
  },
  {
   "cell_type": "markdown",
   "metadata": {},
   "source": [
    "<span style=\"color:red\">답변</span>"
   ]
  },
  {
   "cell_type": "markdown",
   "metadata": {},
   "source": [
    "### Python에서 \"#\"의 의미\n",
    "- 주석을 의미한다.\n",
    "\n",
    "- 코드에 포함되지만 프로그램이 실행될 때는 무시된다.\n",
    "\n",
    "- 코드를 설명하거나 메모를 남기기 위해 사용한다.\n",
    "\n",
    "- 코드의 가독성을 높이고, 다른 개발자들이나 미래의 자신이 코드를 쉽게 이해할 수 있도록 도와준다."
   ]
  },
  {
   "cell_type": "markdown",
   "metadata": {},
   "source": [
    "----"
   ]
  },
  {
   "cell_type": "markdown",
   "metadata": {},
   "source": [
    "<span style=\"font-size:80%\">[문제4]<br><br></span>\n",
    "```Python의 들여쓰기 장점과 기능에 대해 설명해주세요```"
   ]
  },
  {
   "cell_type": "markdown",
   "metadata": {},
   "source": [
    "<span style=\"color:red\">답변</span>"
   ]
  },
  {
   "cell_type": "markdown",
   "metadata": {},
   "source": [
    "### Python 들여쓰기의 기능\n",
    "- 코드의 구조를 명확히 하고 가독성을 높이는 역할을 한다.\n",
    "\n",
    "- 다른 언어처럼 중괄호{}를 사용하지 않는다.\n",
    "\n",
    "- 들여쓰기를 통해 코드 블록을 구분한다.\n",
    "\n",
    "- 특히 조건문, 반복문, 함수 정의 등에서 들여쓰기를 사용해 계층적 흐름을 표현한다.\n",
    "\n",
    "### Python 들여쓰기의 장점\n",
    "- 가독성\n",
    "\n",
    "    -  들여쓰기가 강제되어 코드를 읽기 쉽고, 구조가 명확해 진다.\n",
    "\n",
    "- 일관성\n",
    "\n",
    "    - 들여쓰기를 통해 코드 블록이 일관되게 표시된다.\n",
    "\n",
    "- 간결함\n",
    "\n",
    "    - 중괄호 대신 들여쓰기가 코드를 깔끔하게 작성할 수 있다."
   ]
  },
  {
   "cell_type": "markdown",
   "metadata": {},
   "source": [
    "----"
   ]
  },
  {
   "cell_type": "markdown",
   "metadata": {},
   "source": [
    "<span style=\"font-size:80%\">[문제5]<br><br></span>\n",
    "```print( )문의 기능 및 특징에 대해 설명해주세요```"
   ]
  },
  {
   "cell_type": "markdown",
   "metadata": {},
   "source": [
    "<span style=\"color:red\">답변</span>"
   ]
  },
  {
   "cell_type": "markdown",
   "metadata": {},
   "source": [
    "### print() 함수\n",
    "파이썬에서 출력을 담당하는 함수로 화면에 값을 출력하거나 변수의 값을 확인하는 데 사용됨\n",
    "\n",
    "### 기능 및 특징\n",
    "- 출력 기능\n",
    "\n",
    "    - 지정한 텍스트, 변수, 또는 표현식을 출력한다.\n",
    "\n",
    "- 여러 값 출력\n",
    "\n",
    "    - 쉼표(,)로 여러 값을 구분해 한 줄에 출력할 수 있다.\n",
    "\n",
    "- 기본적으로 줄바꿈\n",
    "\n",
    "    - 출력 후 자동으로 줄바꿈(\\n)이 발생한다.\n",
    "    \n",
    "    - 줄바꿈을 없애려면 end=\"\"를 사용할 수 있다."
   ]
  },
  {
   "cell_type": "markdown",
   "metadata": {},
   "source": []
  }
 ],
 "metadata": {
  "language_info": {
   "name": "python"
  }
 },
 "nbformat": 4,
 "nbformat_minor": 2
}
