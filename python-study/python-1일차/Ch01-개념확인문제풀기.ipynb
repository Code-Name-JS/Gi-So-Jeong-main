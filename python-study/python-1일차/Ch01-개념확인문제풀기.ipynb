{
 "cells": [
  {
   "cell_type": "markdown",
   "metadata": {},
   "source": [
    "<span style=\"font-size:100%\">\n",
    "\n",
    "수업은 모두 열심히 들으셨나요?\n",
    "\n",
    "간혹 강의에서 언급되지 않은 내용이 문제로 나올 수 있습니다.<br>\n",
    "그럴땐 강의 내용 외 문제는 구글링을 통해 해결해주세요<br></span>\n",
    "<span style=\"font-size:80%\">\n",
    "(구글링 또한 개발자가 갖쳐야할 역량 중에 하나랍니다 😊)\n",
    "</span>\n",
    "\n",
    "---"
   ]
  },
  {
   "cell_type": "markdown",
   "metadata": {},
   "source": [
    "<span style=\"font-size:80%\">[문제1]<br><br></span>\n",
    "```인터프리트 방식에 대해 설명하고 2개 이상의 장점을 설명해주세요```"
   ]
  },
  {
   "cell_type": "markdown",
   "metadata": {},
   "source": [
    "<span style=\"color:red\">답변</span>"
   ]
  },
  {
   "cell_type": "markdown",
   "metadata": {},
   "source": [
    "### 인터프리트 방식 설명\n",
    "- 컴파일러는 코드를 0과 1로 바꾼 뒤 실행하는 방식이지만 인터프리트는 코드를 한 줄 한 줄 바로 실행하는 방식으로 파이썬은 인터프리트를 사용하는 대표적인 언어이다.\n",
    "\n",
    "### 인터프리트의 장점\n",
    "- 동적 타이핑을 지원하여 변수의 타입을 명시하지 않아도 되므로 코드 작성이 간결하다.\n",
    "\n",
    "- 빠른 개발과 유연성 작업에 유리하다.\n",
    "\n",
    "- 메모리를 사용하지 않는다\n",
    "\n",
    "- 시스템간의 이식성이 뛰어나다.\n",
    "\n",
    "- 전체코드를 다시 컴파일할 필요가 없이 코드 수정에 용이하다."
   ]
  },
  {
   "cell_type": "markdown",
   "metadata": {},
   "source": [
    "---"
   ]
  },
  {
   "cell_type": "markdown",
   "metadata": {},
   "source": [
    "<span style=\"font-size:80%\">[문제2]<br><br></span>\n",
    "```동적 타입 방식의 장점과 단점을 간략히 설명해주세요```"
   ]
  },
  {
   "cell_type": "markdown",
   "metadata": {},
   "source": [
    "<span style=\"color:red\">답변</span>"
   ]
  },
  {
   "cell_type": "markdown",
   "metadata": {},
   "source": [
    "### 동적 타입 방식의 장점\n",
    "- 유연성 : 실행 시간에 타입이 결정되기 때문에 동적으로 변수의 타입을 변경할 수 있어 유연성이 높다.\n",
    "\n",
    "- 간단한 문법 : 타입 선언이 없거나 간소화되어 코드가 간결할 수 있다.\n",
    "\n",
    "- 빠른 프로토타이핑 : 초기 개발 속도가 빠르며 코드 작성이 간단할 수 있다.\n",
    "\n",
    "### 동적 타입 방식의 단점\n",
    "- 런타임 에러 : 실행 중에 타입 관련 오류가 발생할 수 있으며, 이는 실행시간에만 감지된다.\n",
    "\n",
    "- 코드 예측 어려움 : 타입 정보가 부족하면 코드를 이해하고 예측하기 어려울 수 있다.\n",
    "\n",
    "- 성능 감소 : 동적 타입 언어는 런타임에 타입 체크를 수행하므로 성능이 상대적으로 느릴 수 있다.\n"
   ]
  },
  {
   "cell_type": "markdown",
   "metadata": {},
   "source": [
    "---"
   ]
  },
  {
   "cell_type": "markdown",
   "metadata": {},
   "source": [
    "<span style=\"font-size:80%\">[문제3]<br><br></span>\n",
    "```Python으로 정적타입 방식의 코드를 작성할 수 있는 방법을 구글링을 통해 검색 후 설명해주세요```"
   ]
  },
  {
   "cell_type": "markdown",
   "metadata": {},
   "source": [
    "<span style=\"color:red\">답변</span>"
   ]
  },
  {
   "cell_type": "markdown",
   "metadata": {},
   "source": [
    "### 타입 시스템(타입 힌트 : Type Hints)을 사용한다.\n",
    "#### **파이썬의 타입 힌트**\n",
    "- 파이썬의 타입 힌트는 파이썬 코드에 정적 타입을 선택적으로 제공하는 기능이다.\n",
    "\n",
    "- 타입 힌트를 추가하면 ID로 코딩할 때 잘못된 타입을 사용할 경우에 경고 표시가 뜨는 것 같은 기능을 활용할 수 있다.\n",
    "    - 현재 대부분의 IDE에서 타입 힌트를 지원하고 있다.\n",
    "\n",
    "- 모든 부분에 타입 힌트를 적용할 필요는 없지만, 타입 힌트가 많을 수록 정적 코드 분석도구(mypy 등)를 통해 프로그램의 잠재적 버그를 찾아낼 수 있는 정보도 많아진다.\n",
    "\n",
    "- 타입 힌트를 위하여 파이썬 3.5버전부터 typing이라는 내장 모듈을 지원한다.\n",
    "\n",
    "#### 변수에 타입 힌트 추가\n",
    "- age: int = 25\n",
    "\n",
    "- name: str = \"John\"\n",
    "\n",
    "- height: float = 175.5\n",
    "\n",
    "\n",
    "#### 함수에서 타입 힌트 사용\n",
    "\n",
    "- def greet(name: str) -> str:\n",
    "\n",
    "    - return f\"Hello, {name}!\"\n",
    "\n",
    "**여기서 name은 str 타입이고, 함수의 반환값도 str임을 명시한다.**\n",
    "\n",
    "#### 리스트, 딕셔너리 등 복합 타입에 대한 힌트\n",
    "- from typing import List, Dict\n",
    "\n",
    "- def process_data(data: List[int]) -> Dict[str, int]:\n",
    "    - return {\"total\": sum(data)}\n",
    "\n",
    "#### 옵셔널 타입 (값이 None일 수 있는 경우)\n",
    "- from typing import Optional\n",
    "\n",
    "- def get_user_id(user: Optional[str]) -> int:\n",
    "    - if user is None:\n",
    "        - return -1\n",
    "    - return len(user)\n",
    "\n",
    "타입 힌트는 **컴파일 시점에 강제되는 것은 아니지만**, 코드 품질을 높이고 오류를 미리 방지하는데 매우 유용하다.\n",
    "\n",
    "정적 분석 도구(mypy)를 사용하면 타입 검사를 자동화할 수 있다!"
   ]
  },
  {
   "cell_type": "markdown",
   "metadata": {},
   "source": [
    "---"
   ]
  },
  {
   "cell_type": "markdown",
   "metadata": {},
   "source": [
    "<span style=\"font-size:80%\">[문제4]<br><br></span>\n",
    "```프로세스와 스레드의 차이점을 설명해주세요```"
   ]
  },
  {
   "cell_type": "markdown",
   "metadata": {},
   "source": [
    "<span style=\"color:red\">답변</span>"
   ]
  },
  {
   "cell_type": "markdown",
   "metadata": {},
   "source": [
    "### 프로세스\n",
    "- 실행 중인 프로그램이다.\n",
    "\n",
    "- 독립된 메모리와 자원을 갖는다.\n",
    "\n",
    "- 프로세스 간에는 메모리와 자원을 공유하지 않는다.\n",
    "\n",
    "- 새로운 프로세스를 생성하는 데 시간이 많이 걸린다.\n",
    "\n",
    "### 스레드\n",
    "- 프로세스 내의 작업 단위이다.\n",
    "\n",
    "- 프로세스의 메모리와 자원을 공유한다.\n",
    "\n",
    "- 스레드는 프로세스보다 가볍다.\n",
    "\n",
    "- 생성 및 실행 속도가 빠른다.\n",
    "\n",
    "\n",
    "즉, **프로세스는 독립적**이고, **스레드는 프로세스 내에서 자원을 공유하며 병렬 작업을 처리**한다."
   ]
  },
  {
   "cell_type": "markdown",
   "metadata": {},
   "source": [
    "---"
   ]
  },
  {
   "cell_type": "markdown",
   "metadata": {},
   "source": [
    "<span style=\"font-size:80%\">[문제5]<br><br></span>\n",
    "```Python 2버전대와 3버전대의 차이를 성명해주세요```"
   ]
  },
  {
   "cell_type": "markdown",
   "metadata": {},
   "source": [
    "<span style=\"color:red\">답변</span>"
   ]
  },
  {
   "cell_type": "markdown",
   "metadata": {},
   "source": [
    "### 문법 및 호환성\n",
    "- **Python 2**\n",
    "    - 구 버전으로, 많은 레거시 코드가 존재하지만, 2020년에 지원이 종료되었다.\n",
    "\n",
    "- **Python 3**\n",
    "    - 최신 버전으로, Python 2와 하위 호환되지 않으며 새로운 기능과 최적화가 추가되었다.\n",
    "\n",
    "### print 함수\n",
    "- **Python 2**\n",
    "    - print가 문법적 키워드로 괄호 없이 사용 가능했다.\n",
    "    - print \"Hello\"\n",
    "\n",
    "- **Python 3**\n",
    "    - print는 함수로 변경되어 반드시 괄호를 사용해야 한다.\n",
    "    - print(\"Hello\")\n",
    "\n",
    "### 정수 나눗셈\n",
    "- **Python 2**\n",
    "    - 정수끼리 나누면 정수로 반환한다.\n",
    "    - 3 / 2 == 1\n",
    "\n",
    "- **Python 3**\n",
    "    - 정수끼리 나누면 소수점 값을 반환한다.\n",
    "    - 3 / 2 == 1.5\n",
    "\n",
    "### 유니코드\n",
    "- **Python 2**\n",
    "    - 기본 문자열 타입이 ASCII였다.\n",
    "\n",
    "- **Python 3**\n",
    "    - 기본 문자열 타입이 유니코드, UTF-8을 기본 지원한다.\n",
    "\n",
    "### 입력 함수\n",
    "- **Python 2**\n",
    "    - input()과 raw_input() 두 가지 함수가 존재했다.\n",
    "\n",
    "- **Python 3**\n",
    "    - input()만 사용하면 문자열 입력을 반환한다."
   ]
  },
  {
   "cell_type": "markdown",
   "metadata": {},
   "source": [
    "---"
   ]
  },
  {
   "cell_type": "markdown",
   "metadata": {},
   "source": [
    "<span style=\"font-size:80%\">[문제6]<br><br></span>\n",
    "```Python에서 메모리 관리는 어떻게 이루어지는지 설명해주세요```"
   ]
  },
  {
   "cell_type": "markdown",
   "metadata": {},
   "source": [
    "<span style=\"color:red\">답변</span>"
   ]
  },
  {
   "cell_type": "markdown",
   "metadata": {},
   "source": [
    "Python 메모리 관리는 **자동으로** 이루어지며, 주요 방식은 **[ 가비지 컬렉션(Garbage Collection) ]**과 **[ 참조 카운티(Reference Counting) ]**이 있다.\n",
    "\n",
    "### 참조 카운팅\n",
    "- 파이썬의 모든 객체는 참조 카운트를 가지고 있다.\n",
    "\n",
    "    - 해당 객체를 참조하는 변수나 객체가 추가되면 참조 카운트가 증가한다.\n",
    "\n",
    "    - 참조가 없어지면 카운트가 감소한다.\n",
    "\n",
    "- 참조 카운트가 0이 되면, 해당 객체는 메모리에서 해제된다.\n",
    "\n",
    "### 가비지 컬렉션\n",
    "- 참조 카운트만으로 해결할 수 없는 **순환 참조** 문제를 해결하기 위해 가비지 컬렉터가 주기적으로 메모리를 검사한다.\n",
    "\n",
    "    - 더 이상 사용되지 않는 객체를 자동으로 해제한다.\n",
    "\n",
    "### 힙 메모리 관리\n",
    "- 파이썬은 힙 메모리를 사용해 객체를 저장한다.\n",
    "\n",
    "    - 메모리 관리는 **파이썬 메모리 관리자(Python Memory Manager)**에 의해 수행된다.\n",
    "\n",
    "    - 이는 필요에 따라 메모리를 할당하고, 가비지 컬렉터가 이를 정리한다."
   ]
  }
 ],
 "metadata": {
  "language_info": {
   "name": "python"
  }
 },
 "nbformat": 4,
 "nbformat_minor": 2
}
